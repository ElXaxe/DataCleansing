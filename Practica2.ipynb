{
 "cells": [
  {
   "cell_type": "markdown",
   "metadata": {},
   "source": [
    "<div style=\"width: 100%; clear: both;\">\n",
    "<div style=\"float: left; width: 50%;\">\n",
    "<img src=\"http://www.uoc.edu/portal/_resources/common/imatges/marca_UOC/UOC_Masterbrand.jpg\", align=\"left\">\n",
    "</div>\n",
    "<div style=\"float: right; width: 50%;\">\n",
    "<p style=\"margin: 0; padding-top: 22px; text-align:right;\">M2.951 - Tipologia i cicle de vida de les dades</p>\n",
    "<p style=\"margin: 0; text-align:right;\">2017-2 · Màster universitari en Ciència de dades (Data science)</p>\n",
    "<p style=\"margin: 0; text-align:right; padding-button: 100px;\"><b>Autors:</b> Joan Bonnín i Jose L. Dolz</p>\n",
    "</div>\n",
    "</div>\n",
    "<div style=\"width:100%;\">&nbsp;</div>\n",
    "\n",
    "\n",
    "# Pràctica 2: Neteja i validació de les dades"
   ]
  },
  {
   "cell_type": "markdown",
   "metadata": {},
   "source": [
    "## Descripció \n",
    "L’objectiu d’aquesta activitat serà el tractament d’un dataset, que pot ser el creat a la pràctica 1 o bé qualsevol dataset lliure disponible a Kaggle (https://www.kaggle.com). Alguns exemples de dataset amb els que podeu treballar són:\n",
    "<ul>\n",
    "    <li>Red Wine Quality (https://www.kaggle.com/uciml/red-wine-quality-cortez-et-al-2009).</li>\n",
    "    <li>Titanic: Machine Learning from Disaster (https://www.kaggle.com/c/titanic).</li>\n",
    "    <li>Predict Future Sales (https://www.kaggle.com/c/competitive-data-science-predict-future-sales/).</li>\n",
    "</ul>\n",
    "Els últims dos exemples corresponen a competicions actives a Kaggle de manera que, opcionalment, podrieu aprofitar el treball realitzat durant la pràctica per entrar en alguna d’aquestes competicions.\n",
    "Seguint les principals etapes d’un projecte analític, les diferents tasques a realitzar (i <b>justificar</b>) són les següents:\n"
   ]
  },
  {
   "cell_type": "code",
   "execution_count": null,
   "metadata": {},
   "outputs": [],
   "source": [
    "#NOMÉS USATS PER DEV. ELIMINAR ABANS D'ENTREGAR\n",
    "from pprint import pprint\n",
    "\n",
    "# Import all required packages\n",
    "\n",
    "# Basic maths & data structures\n",
    "import pandas as pd\n",
    "import numpy as np\n",
    "import scipy\n",
    "import scipy.stats as stats\n",
    "\n",
    "# Data rendering\n",
    "from IPython.display import display\n",
    "import matplotlib.pyplot as plt"
   ]
  },
  {
   "cell_type": "code",
   "execution_count": null,
   "metadata": {},
   "outputs": [],
   "source": [
    "# General constants\n",
    "PVAL_THRESHOLD = 0.05"
   ]
  },
  {
   "cell_type": "markdown",
   "metadata": {},
   "source": [
    "### 1. Descripció del dataset. Perquè és important i quina pregunta/problema pretèn respondre?"
   ]
  },
  {
   "cell_type": "markdown",
   "metadata": {},
   "source": [
    "<font color=\"#1111aa\">\n",
    "    Per aquesta pràctica hem escollit el conjunt de dades de <a href=\"https://www.kaggle.com/uciml/red-wine-quality-cortez-et-al-2009\" target=\"_blank\">la qualitat del vi negre</a> que, com bé s'explica en la seva pàgina de Kaggle, tracta de les variants del vi portuguès conegut com <a href=\"http://www.vinhoverde.pt/en/\" target=\"_blank\">'Vinho Verde'</a>. Els <b>camps</b> que composen el dataset són tots <b>numérics</b> i són els següents:\n",
    "    <ul>\n",
    "        <li><b>fixed acidity</b>: acidesa fixa (<i>g/l</i>). Majoria dels àcids fixes o no volàtils fàcilment.</li>\n",
    "        <li><b>volatile acidity</b>: acidesa volàtil (<i>g/l</i>). Quantitat d'àcid acètic que en gran quantitat porta al vi a tenir gust a vinagre.</li>\n",
    "        <li><b>citric acid</b>: àcid cítric (<i>g/l</i>). Quantitat d'aquest àcid (normalment petita) que pot donar sabor i frescura als vins</li>\n",
    "        <li><b>residual sugar</b>: sucre residual (<i>g/l</i>). Quantitat de sucre que queda després de la fermentació. És estrany trobar vins amb menys d'1 g/l i els que tenem més de 45 g/l es consideren dolços.</li>\n",
    "        <li><b>chlorides</b>: clorurs (<i>g/l</i>). Representa la quantitat de sal al vi.</li>\n",
    "        <li><b>free sulfur dioxide</b>: diòxid de sofre lliure o SO2 (<i>mg/l</i>). Parts per milió (ppm) del diòxid que queda lliure un cop es barreja en barrejar-se amb el vi. Aquest diòxid prevé al vi de bactèries i de l'oxidació.</li>\n",
    "        <li><b>total sulfur dioxide</b>: Diòxid de sofre total (<i>mg/l</i>). La suma (en ppm) de la part lliure i la part fixada al vi de SO2.</li>\n",
    "        <li><b>density</b>: densitat (<i>g/l</i>). Aquest valor dependrà de la quantitat d'alcohol i sucre en el vi. </li>\n",
    "        <li><b>pH</b>: descriu com d'àcid o bàsic és un vi en una escala de 0 (molt àcid) a 14 (molt bàsic); La majoria dels vins són entre 3 i 4 en l'escala de pH.</li>\n",
    "        <li><b>sulphates</b>: sulfats (<i>g/l</i>), que contribueixen al SO2.</li>\n",
    "        <li><b>alcohol</b>: percentatge de contigut alcohòlic en el vi.</li>\n",
    "        <li><b>quality</b>: qualitat del vi en una puntuació entre el 0 i el 10.</li>\n",
    "    </ul>\n",
    "    Carreguem i fem una ullada al format de les dades:\n",
    "        "
   ]
  },
  {
   "cell_type": "code",
   "execution_count": null,
   "metadata": {},
   "outputs": [],
   "source": [
    "wine_df = pd.read_csv('winequality-red.csv')\n",
    "print(\"El conjunt de dades presenta, com hem vist, {} atributs i està compost per {} registres.\".format(wine_df.shape[1], wine_df.shape[0]))\n",
    "display(wine_df.head())\n"
   ]
  },
  {
   "cell_type": "markdown",
   "metadata": {},
   "source": [
    "<font color=\"#1111aa\">\n",
    "    Com podem veure, tenim els dotze atributs esmentat abans: 11 mesures físico-químiques i la qualitat, que podríem dir que és la classe.\n",
    "    <p>Aquest conjunt de dades és important perquè ens pot servir per entrenar diferents models d'aprenentatge computacional i poder predir la qualitat d'un vi, mitjançant les dades físicoquímiques obtingudes pels diferents instruments de medició.</p>\n",
    "    "
   ]
  },
  {
   "cell_type": "markdown",
   "metadata": {},
   "source": [
    "### 2. Integració i selecció de les dades d’interès a analitzar."
   ]
  },
  {
   "cell_type": "code",
   "execution_count": null,
   "metadata": {},
   "outputs": [],
   "source": [
    "# Mateixa funció que summary en R. Ho podem fer servir per...\n",
    "wine_df.describe()\n"
   ]
  },
  {
   "cell_type": "code",
   "execution_count": null,
   "metadata": {},
   "outputs": [],
   "source": [
    "# Correlació dels atributs\n",
    "pd.plotting.scatter_matrix(wine_df.iloc[:, :11], figsize=(30,15))\n",
    "plt.show()"
   ]
  },
  {
   "cell_type": "markdown",
   "metadata": {},
   "source": [
    "### 3. Neteja de les dades."
   ]
  },
  {
   "cell_type": "markdown",
   "metadata": {},
   "source": [
    "#### 3.1. Les dades contenen zeros o elements buits? Com gestionaries aquests casos?"
   ]
  },
  {
   "cell_type": "code",
   "execution_count": null,
   "metadata": {},
   "outputs": [],
   "source": [
    "# Contem els valors nuls\n",
    "n_nulls = wine_df[wine_df.isnull()].count()\n",
    "\n",
    "# Contem els zeros\n",
    "n_zeros = wine_df[wine_df == 0].count()\n",
    "\n",
    "df_empties = pd.DataFrame()\n",
    "df_empties[\"Nombre de Nulls\"] = n_nulls\n",
    "df_empties[\"Nombre de zeros\"] = n_zeros\n",
    "display(df_empties.T)"
   ]
  },
  {
   "cell_type": "markdown",
   "metadata": {},
   "source": [
    "<font color=\"#1111aa\">\n",
    "<p>\n",
    "    Com podem observar, no tenim cap atribut que presenti valors nuls. Per altra banda, només trobem zeros en l'atribut d'àcid cítric. Concretament, tenim 132 zeros d'un total de 1599 registres, el que representa un 8'26% del total.</p>\n",
    "\n",
    "<p>\n",
    "    En aquest cas, no cal que substituim els zeros per cap altra valor. És totalment normal trobar vins negres sense àcid cítric, fet que els hi dona un sabor més anyenc. De fet, com veurem més endavant, el rang de grams per litre de l'àcid cítric en vins negres és molt petit i el zero estaria dintre dels barems. Fins i tot podem trobar vins blancs amb zero gram d'àcid cítric, tot i que en aquests acostuma a haver unes quantitats més altes que als vins negres.</p>\n",
    "</font>"
   ]
  },
  {
   "cell_type": "markdown",
   "metadata": {},
   "source": [
    "#### 3.2. Identificació i tractament de valors extrems."
   ]
  },
  {
   "cell_type": "code",
   "execution_count": null,
   "metadata": {},
   "outputs": [],
   "source": [
    "# Dibueixem un boxplot per cada atribut per veure màxims, \n",
    "# mínims, quartils, rang interquartilic i outliers.\n",
    "\n",
    "df_cols = list(wine_df)\n",
    "n_rows = 2\n",
    "n_cols = 6\n",
    "\n",
    "fig, axes = plt.subplots(n_rows, n_cols, figsize=(30, 15))\n",
    "for i, row_axes in enumerate(axes):\n",
    "    for j, ax in enumerate(row_axes):\n",
    "        idx = i*n_cols + j\n",
    "        wine_df.boxplot(column=df_cols[idx], ax=axes[i][j], grid=False)\n",
    "        \n",
    "plt.show()"
   ]
  },
  {
   "cell_type": "markdown",
   "metadata": {},
   "source": [
    "Als boxplots s'observa que la majoria de variables presenten una quantitat elevada d'*outliers*, així que val la pena aplicar-hi una anàlisi més extensa per detectar si es tracta de presència de valors erronis o la ralitat de les dades és la que es mostra.\n",
    "\n",
    "El fet que la majoria d'*outliers* s'agrupin a prop dels bigotis i la densistat baixi segons s'allunyen, ens fa pensar que els valors poden ser correctes, i que simplement la distribució presenta una desviació lateral o una variància molt elevada. Un exemple habitual per mostrar dades que presenten aquesta característica són els salaris.\n",
    "    \n",
    "    "
   ]
  },
  {
   "cell_type": "markdown",
   "metadata": {},
   "source": [
    "### 4. Anàlisi de les dades.\n",
    "#### 4.1. Selecció dels grups de dades que es volen analitzar/comparar (planificació dels anàlisis a aplicar)."
   ]
  },
  {
   "cell_type": "code",
   "execution_count": null,
   "metadata": {},
   "outputs": [],
   "source": []
  },
  {
   "cell_type": "markdown",
   "metadata": {},
   "source": [
    "#### 4.2. Comprovació de la normalitat i homogeneïtat de la variància."
   ]
  },
  {
   "cell_type": "code",
   "execution_count": null,
   "metadata": {},
   "outputs": [],
   "source": [
    "####### NORMALITAT #######\n",
    "\n",
    "# Mètodes gràfics \n",
    "def render_normality_histograms():\n",
    "    n_rows = 3\n",
    "    n_cols = 4\n",
    "    n_bars = 30\n",
    "    fig, axes = plt.subplots(n_rows, n_cols, figsize=(30, 15))\n",
    "    for i, row_axes in enumerate(axes):\n",
    "        for j, ax in enumerate(row_axes):\n",
    "            idx = i*n_cols + j\n",
    "\n",
    "            attr = df_cols[idx]\n",
    "            ax.set_xlabel(attr)      \n",
    "\n",
    "            data = wine_df[attr].sort_values()\n",
    "            ax.hist(data, bins=n_bars, normed=True)\n",
    "\n",
    "            norm = stats.norm.pdf(data, np.mean(data), np.std(data))\n",
    "            ax.plot(data, norm) \n",
    "    plt.show()\n",
    "        \n",
    "def plot_qq():\n",
    "    for attr_key in wine_df:\n",
    "        attr = wine_df[attr_key]\n",
    "        stats.probplot(attr, dist=\"norm\", plot=plt)\n",
    "        plt.show()\n",
    "\n",
    "# Mètodes numèrics\n",
    "def test_normality_anderson(render=False):\n",
    "    normal_attrs = []\n",
    "    non_normal_attrs = []\n",
    "    for attr_key in wine_df:\n",
    "        attr = wine_df[attr_key].values\n",
    "        res = stats.anderson(attr, dist='norm')\n",
    "        stat = res.statistic\n",
    "        threshold = res.critical_values[2] #0.05 significance == PVAL_THRESHOLD\n",
    "        if stat > threshold:\n",
    "            normal_attrs.append(attr_key)\n",
    "        else:\n",
    "            non_normal_attrs.append(attr_key)\n",
    "    \n",
    "    if render:\n",
    "        print_attrs_distributions(normal_attrs, non_normal_attrs)\n",
    "        \n",
    "def test_normality_shapiro(p_value_threshold=PVAL_THRESHOLD, render=False):\n",
    "    normal_attrs = []\n",
    "    non_normal_attrs = []\n",
    "    for attr_key in wine_df:\n",
    "        attr = wine_df[attr_key].values\n",
    "        res = stats.shapiro(attr)\n",
    "        if res[1] > p_value_threshold:\n",
    "            non_normal_attrs.append(attr_key)\n",
    "        else:\n",
    "            normal_attrs.append(attr_key)\n",
    "            \n",
    "    if render:\n",
    "        print_attrs_distributions(normal_attrs, non_normal_attrs)\n",
    "        \n",
    "        \n",
    "def test_normality_dagostino(p_value_threshold=PVAL_THRESHOLD, render=False):\n",
    "    normal_attrs = []\n",
    "    non_normal_attrs = []\n",
    "    for attr_key in wine_df:\n",
    "        attr = wine_df[attr_key].values\n",
    "        res = stats.normaltest(attr)\n",
    "        if res.pvalue > p_value_threshold:\n",
    "            non_normal_attrs.append(attr_key)\n",
    "        else:\n",
    "            normal_attrs.append(attr_key)\n",
    "            \n",
    "    if render:\n",
    "        print_attrs_distributions(normal_attrs, non_normal_attrs)        \n",
    "    \n",
    "def print_attrs_distributions(normal, non_normal):\n",
    "    print(\"Atributs amb distribució normal: {}\".format(normal))\n",
    "    print(\"Atributs amb distribució no normal: {}\".format(non_normal))\n",
    "    \n",
    "# render_normality_histograms()\n",
    "# plot_qq()\n",
    "\n",
    "# print(\"########## Anderson ##########\")\n",
    "# test_normality_anderson(render=True)\n",
    "# print(\"##############################\", end='\\n\\n')\n",
    "\n",
    "# print(\"########## Shapiro ##########\")\n",
    "# test_normality_shapiro(render=True)\n",
    "# print(\"##############################\", end='\\n\\n')\n",
    "\n",
    "# print(\"########## D'Agostino ##########\")\n",
    "# test_normality_dagostino(render=True)\n",
    "# print(\"##############################\", end='\\n\\n')\n"
   ]
  },
  {
   "cell_type": "code",
   "execution_count": null,
   "metadata": {},
   "outputs": [],
   "source": [
    "####### HOMOGENEITAT VARIANCIA #######\n",
    "\n",
    "# Levene és util si la normalitat no està asegurada\n",
    "def levene_test(threshold=PVAL_THRESHOLD):\n",
    "    res = stats.levene(*wine_df.as_matrix(), center='median') # Expand matrix to n parameters with '*'\n",
    "    p = res.pvalue\n",
    "    return p > threshold\n",
    "    print(res)\n",
    "    \n",
    "    res = stats.levene([1,2,3],[0,1, 71])\n",
    "    print(res)\n",
    "    \n",
    "levene_test()"
   ]
  },
  {
   "cell_type": "markdown",
   "metadata": {},
   "source": [
    "#### 4.3. Aplicació de proves estadístiques per comparar els grups de dades. En funció de les dades i de l’objectiu de l’estudi, aplicar proves de contrast d’hipòtesis, correlacions, regressions, etc."
   ]
  },
  {
   "cell_type": "code",
   "execution_count": null,
   "metadata": {},
   "outputs": [],
   "source": [
    "# Mirem les correlacions entre els atributs i la qualitat\n",
    "# Amb pearson si segueixen distribució normal (que podríem dir que si perque n > 30  pel teorema del límit central)\n",
    "data = np.ndarray(shape=(len(df_cols), 2))\n",
    "for i in range(len(df_cols)):\n",
    "    attr = df_cols[i]\n",
    "    data[i] = stats.pearsonr(wine_df[attr], wine_df['quality'])\n",
    "df_pearson = pd.DataFrame(data, index=df_cols, columns=['estimació', 'p-valor'])[:11]\n",
    "df_pearson['tmp_sort'] = df['estimació'].abs()\n",
    "df_pearson = df_pearson.sort_values(by='tmp_sort', ascending=False).drop('tmp_sort', axis=1)\n",
    "\n",
    "# Format output\n",
    "# pprint(df_pearson['estimació'].values)\n",
    "df_pearson['estimació'] = [\"{0:.4f}\".format(el) for el in df_pearson['estimació'].values]\n",
    "df_pearson['p-valor'] = [\"{0:.2e}\".format(el) for el in df_pearson['p-valor'].values]\n",
    "display(df_pearson.T)"
   ]
  },
  {
   "cell_type": "markdown",
   "metadata": {},
   "source": [
    "### 5. Representació dels resultats a partir de taules i gràfiques."
   ]
  },
  {
   "cell_type": "code",
   "execution_count": null,
   "metadata": {},
   "outputs": [],
   "source": []
  },
  {
   "cell_type": "markdown",
   "metadata": {},
   "source": [
    "### 6. Resolució del problema. A partir dels resultats obtinguts, quines són les conclusions? Els resultats permeten respondre al problema?"
   ]
  },
  {
   "cell_type": "code",
   "execution_count": null,
   "metadata": {},
   "outputs": [],
   "source": []
  },
  {
   "cell_type": "markdown",
   "metadata": {},
   "source": [
    "### 7. Codi: Cal adjuntar el codi, preferiblement en R, amb el que s’ha realitzat la neteja, anàlisi i representació de les dades. Si ho preferiu, també podeu treballar en Python"
   ]
  },
  {
   "cell_type": "markdown",
   "metadata": {},
   "source": [
    "Tot el codi emprat en aquesta pràctica es pot trobar en les diferens preguntes en les cel·les precedides amb `In [ ]` i es poden executar des de jupyter."
   ]
  },
  {
   "cell_type": "code",
   "execution_count": null,
   "metadata": {},
   "outputs": [],
   "source": []
  },
  {
   "cell_type": "code",
   "execution_count": null,
   "metadata": {},
   "outputs": [],
   "source": []
  },
  {
   "cell_type": "code",
   "execution_count": null,
   "metadata": {},
   "outputs": [],
   "source": []
  }
 ],
 "metadata": {
  "kernelspec": {
   "display_name": "Python 3",
   "language": "python",
   "name": "python3"
  },
  "language_info": {
   "codemirror_mode": {
    "name": "ipython",
    "version": 3
   },
   "file_extension": ".py",
   "mimetype": "text/x-python",
   "name": "python",
   "nbconvert_exporter": "python",
   "pygments_lexer": "ipython3",
   "version": "3.6.4"
  }
 },
 "nbformat": 4,
 "nbformat_minor": 2
}
